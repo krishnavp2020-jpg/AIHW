{
 "cells": [
  {
   "cell_type": "code",
   "execution_count": 1,
   "id": "4bfda472",
   "metadata": {
    "executionInfo": {
     "elapsed": 4024,
     "status": "ok",
     "timestamp": 1761715844341,
     "user": {
      "displayName": "Lohith Bandla",
      "userId": "16055164822052850482"
     },
     "user_tz": -330
    },
    "id": "4bfda472"
   },
   "outputs": [],
   "source": [
    "#import dependencies\n",
    "from keras.models import Sequential\n",
    "from keras.layers import Dense,Flatten\n",
    "from keras.datasets import fashion_mnist,cifar10\n",
    "from keras import regularizers\n",
    "from keras.utils import to_categorical\n",
    "from keras.optimizers import Adam\n",
    "import matplotlib.pyplot as plt"
   ]
  },
  {
   "cell_type": "code",
   "execution_count": 2,
   "id": "160b8dde",
   "metadata": {
    "colab": {
     "base_uri": "https://localhost:8080/"
    },
    "executionInfo": {
     "elapsed": 10301,
     "status": "ok",
     "timestamp": 1761715854645,
     "user": {
      "displayName": "Lohith Bandla",
      "userId": "16055164822052850482"
     },
     "user_tz": -330
    },
    "id": "160b8dde",
    "outputId": "31dd7ea6-ba21-4d2e-c630-c00c11cfed43"
   },
   "outputs": [],
   "source": [
    "#load data\n",
    "(x_train,y_train),(x_test,y_test)=cifar10.load_data()"
   ]
  },
  {
   "cell_type": "code",
   "execution_count": 3,
   "id": "c96bbfd6",
   "metadata": {
    "executionInfo": {
     "elapsed": 621,
     "status": "ok",
     "timestamp": 1761715855270,
     "user": {
      "displayName": "Lohith Bandla",
      "userId": "16055164822052850482"
     },
     "user_tz": -330
    },
    "id": "c96bbfd6"
   },
   "outputs": [],
   "source": [
    "#normalise\n",
    "x_train=x_train.astype('float32')/255\n",
    "x_test=x_test.astype('float32')/255"
   ]
  },
  {
   "cell_type": "code",
   "execution_count": 4,
   "id": "8f0ebd1b",
   "metadata": {
    "executionInfo": {
     "elapsed": 27,
     "status": "ok",
     "timestamp": 1761715855300,
     "user": {
      "displayName": "Lohith Bandla",
      "userId": "16055164822052850482"
     },
     "user_tz": -330
    },
    "id": "8f0ebd1b"
   },
   "outputs": [],
   "source": [
    "#to_categorical\n",
    "y_train=to_categorical(y_train)\n",
    "y_test=to_categorical(y_test)"
   ]
  },
  {
   "cell_type": "code",
   "execution_count": 5,
   "id": "43804db7",
   "metadata": {
    "colab": {
     "base_uri": "https://localhost:8080/"
    },
    "executionInfo": {
     "elapsed": 4472,
     "status": "ok",
     "timestamp": 1761715859774,
     "user": {
      "displayName": "Lohith Bandla",
      "userId": "16055164822052850482"
     },
     "user_tz": -330
    },
    "id": "43804db7",
    "outputId": "ac6df9d0-6509-4811-e8f2-aef8463e8c67"
   },
   "outputs": [
    {
     "name": "stderr",
     "output_type": "stream",
     "text": [
      "c:\\Users\\Admin\\AppData\\Local\\Programs\\Python\\Python310\\lib\\site-packages\\keras\\src\\layers\\reshaping\\flatten.py:37: UserWarning: Do not pass an `input_shape`/`input_dim` argument to a layer. When using Sequential models, prefer using an `Input(shape)` object as the first layer in the model instead.\n",
      "  super().__init__(**kwargs)\n"
     ]
    }
   ],
   "source": [
    "#architecture\n",
    "model_base=Sequential()\n",
    "model_base.add(Flatten(input_shape=(32,32,3))) #first layer\n",
    "model_base.add(Dense(1024,activation='relu'))#hidden layer\n",
    "model_base.add(Dense(512,activation='relu'))\n",
    "model_base.add(Dense(256,activation='relu'))\n",
    "model_base.add(Dense(128,activation='relu'))\n",
    "model_base.add(Dense(64,activation='relu'))\n",
    "model_base.add(Dense(10,activation='softmax')) #outout layer"
   ]
  },
  {
   "cell_type": "code",
   "execution_count": 6,
   "id": "fec89810",
   "metadata": {
    "executionInfo": {
     "elapsed": 6,
     "status": "ok",
     "timestamp": 1761715859777,
     "user": {
      "displayName": "Lohith Bandla",
      "userId": "16055164822052850482"
     },
     "user_tz": -330
    },
    "id": "fec89810"
   },
   "outputs": [],
   "source": [
    "#compile\n",
    "model_base.compile(optimizer=Adam(learning_rate=0.001),\n",
    "                   loss='categorical_crossentropy',\n",
    "                   metrics=['accuracy'])"
   ]
  },
  {
   "cell_type": "code",
   "execution_count": 7,
   "id": "dd951558",
   "metadata": {
    "colab": {
     "base_uri": "https://localhost:8080/"
    },
    "executionInfo": {
     "elapsed": 66665,
     "status": "ok",
     "timestamp": 1761715926445,
     "user": {
      "displayName": "Lohith Bandla",
      "userId": "16055164822052850482"
     },
     "user_tz": -330
    },
    "id": "dd951558",
    "outputId": "574cbe89-0b68-45a0-80a9-453a050c89ca"
   },
   "outputs": [
    {
     "name": "stdout",
     "output_type": "stream",
     "text": [
      "Epoch 1/30\n",
      "\u001b[1m313/313\u001b[0m \u001b[32m━━━━━━━━━━━━━━━━━━━━\u001b[0m\u001b[37m\u001b[0m \u001b[1m38s\u001b[0m 100ms/step - accuracy: 0.2806 - loss: 1.9621 - val_accuracy: 0.3483 - val_loss: 1.7901\n",
      "Epoch 2/30\n",
      "\u001b[1m313/313\u001b[0m \u001b[32m━━━━━━━━━━━━━━━━━━━━\u001b[0m\u001b[37m\u001b[0m \u001b[1m28s\u001b[0m 90ms/step - accuracy: 0.3717 - loss: 1.7374 - val_accuracy: 0.3775 - val_loss: 1.7675\n",
      "Epoch 3/30\n",
      "\u001b[1m313/313\u001b[0m \u001b[32m━━━━━━━━━━━━━━━━━━━━\u001b[0m\u001b[37m\u001b[0m \u001b[1m25s\u001b[0m 80ms/step - accuracy: 0.4056 - loss: 1.6491 - val_accuracy: 0.3984 - val_loss: 1.6568\n",
      "Epoch 4/30\n",
      "\u001b[1m313/313\u001b[0m \u001b[32m━━━━━━━━━━━━━━━━━━━━\u001b[0m\u001b[37m\u001b[0m \u001b[1m42s\u001b[0m 82ms/step - accuracy: 0.4295 - loss: 1.5843 - val_accuracy: 0.4206 - val_loss: 1.6357\n",
      "Epoch 5/30\n",
      "\u001b[1m313/313\u001b[0m \u001b[32m━━━━━━━━━━━━━━━━━━━━\u001b[0m\u001b[37m\u001b[0m \u001b[1m33s\u001b[0m 105ms/step - accuracy: 0.4501 - loss: 1.5358 - val_accuracy: 0.4405 - val_loss: 1.5653\n",
      "Epoch 6/30\n",
      "\u001b[1m313/313\u001b[0m \u001b[32m━━━━━━━━━━━━━━━━━━━━\u001b[0m\u001b[37m\u001b[0m \u001b[1m34s\u001b[0m 108ms/step - accuracy: 0.4637 - loss: 1.4918 - val_accuracy: 0.4632 - val_loss: 1.5210\n",
      "Epoch 7/30\n",
      "\u001b[1m313/313\u001b[0m \u001b[32m━━━━━━━━━━━━━━━━━━━━\u001b[0m\u001b[37m\u001b[0m \u001b[1m29s\u001b[0m 91ms/step - accuracy: 0.4715 - loss: 1.4707 - val_accuracy: 0.4627 - val_loss: 1.5095\n",
      "Epoch 8/30\n",
      "\u001b[1m313/313\u001b[0m \u001b[32m━━━━━━━━━━━━━━━━━━━━\u001b[0m\u001b[37m\u001b[0m \u001b[1m33s\u001b[0m 106ms/step - accuracy: 0.4862 - loss: 1.4378 - val_accuracy: 0.4695 - val_loss: 1.4972\n",
      "Epoch 9/30\n",
      "\u001b[1m313/313\u001b[0m \u001b[32m━━━━━━━━━━━━━━━━━━━━\u001b[0m\u001b[37m\u001b[0m \u001b[1m46s\u001b[0m 120ms/step - accuracy: 0.4979 - loss: 1.3999 - val_accuracy: 0.4664 - val_loss: 1.4976\n",
      "Epoch 10/30\n",
      "\u001b[1m313/313\u001b[0m \u001b[32m━━━━━━━━━━━━━━━━━━━━\u001b[0m\u001b[37m\u001b[0m \u001b[1m32s\u001b[0m 102ms/step - accuracy: 0.5082 - loss: 1.3727 - val_accuracy: 0.4768 - val_loss: 1.4739\n",
      "Epoch 11/30\n",
      "\u001b[1m313/313\u001b[0m \u001b[32m━━━━━━━━━━━━━━━━━━━━\u001b[0m\u001b[37m\u001b[0m \u001b[1m33s\u001b[0m 106ms/step - accuracy: 0.5171 - loss: 1.3475 - val_accuracy: 0.4851 - val_loss: 1.4670\n",
      "Epoch 12/30\n",
      "\u001b[1m313/313\u001b[0m \u001b[32m━━━━━━━━━━━━━━━━━━━━\u001b[0m\u001b[37m\u001b[0m \u001b[1m44s\u001b[0m 115ms/step - accuracy: 0.5258 - loss: 1.3240 - val_accuracy: 0.4861 - val_loss: 1.4641\n",
      "Epoch 13/30\n",
      "\u001b[1m313/313\u001b[0m \u001b[32m━━━━━━━━━━━━━━━━━━━━\u001b[0m\u001b[37m\u001b[0m \u001b[1m50s\u001b[0m 158ms/step - accuracy: 0.5346 - loss: 1.2979 - val_accuracy: 0.4844 - val_loss: 1.4782\n",
      "Epoch 14/30\n",
      "\u001b[1m313/313\u001b[0m \u001b[32m━━━━━━━━━━━━━━━━━━━━\u001b[0m\u001b[37m\u001b[0m \u001b[1m64s\u001b[0m 97ms/step - accuracy: 0.5464 - loss: 1.2646 - val_accuracy: 0.4848 - val_loss: 1.4921\n",
      "Epoch 15/30\n",
      "\u001b[1m313/313\u001b[0m \u001b[32m━━━━━━━━━━━━━━━━━━━━\u001b[0m\u001b[37m\u001b[0m \u001b[1m27s\u001b[0m 86ms/step - accuracy: 0.5559 - loss: 1.2326 - val_accuracy: 0.4949 - val_loss: 1.4474\n",
      "Epoch 16/30\n",
      "\u001b[1m313/313\u001b[0m \u001b[32m━━━━━━━━━━━━━━━━━━━━\u001b[0m\u001b[37m\u001b[0m \u001b[1m32s\u001b[0m 102ms/step - accuracy: 0.5668 - loss: 1.2111 - val_accuracy: 0.4873 - val_loss: 1.4949\n",
      "Epoch 17/30\n",
      "\u001b[1m313/313\u001b[0m \u001b[32m━━━━━━━━━━━━━━━━━━━━\u001b[0m\u001b[37m\u001b[0m \u001b[1m34s\u001b[0m 109ms/step - accuracy: 0.5768 - loss: 1.1798 - val_accuracy: 0.4983 - val_loss: 1.4790\n",
      "Epoch 18/30\n",
      "\u001b[1m313/313\u001b[0m \u001b[32m━━━━━━━━━━━━━━━━━━━━\u001b[0m\u001b[37m\u001b[0m \u001b[1m37s\u001b[0m 94ms/step - accuracy: 0.5817 - loss: 1.1601 - val_accuracy: 0.5036 - val_loss: 1.4634\n",
      "Epoch 19/30\n",
      "\u001b[1m313/313\u001b[0m \u001b[32m━━━━━━━━━━━━━━━━━━━━\u001b[0m\u001b[37m\u001b[0m \u001b[1m30s\u001b[0m 97ms/step - accuracy: 0.5967 - loss: 1.1281 - val_accuracy: 0.4938 - val_loss: 1.4884\n",
      "Epoch 20/30\n",
      "\u001b[1m313/313\u001b[0m \u001b[32m━━━━━━━━━━━━━━━━━━━━\u001b[0m\u001b[37m\u001b[0m \u001b[1m30s\u001b[0m 95ms/step - accuracy: 0.6045 - loss: 1.1051 - val_accuracy: 0.5066 - val_loss: 1.4653\n",
      "Epoch 21/30\n",
      "\u001b[1m313/313\u001b[0m \u001b[32m━━━━━━━━━━━━━━━━━━━━\u001b[0m\u001b[37m\u001b[0m \u001b[1m31s\u001b[0m 98ms/step - accuracy: 0.6169 - loss: 1.0703 - val_accuracy: 0.5062 - val_loss: 1.4834\n",
      "Epoch 22/30\n",
      "\u001b[1m313/313\u001b[0m \u001b[32m━━━━━━━━━━━━━━━━━━━━\u001b[0m\u001b[37m\u001b[0m \u001b[1m29s\u001b[0m 91ms/step - accuracy: 0.6216 - loss: 1.0476 - val_accuracy: 0.5073 - val_loss: 1.4897\n",
      "Epoch 23/30\n",
      "\u001b[1m313/313\u001b[0m \u001b[32m━━━━━━━━━━━━━━━━━━━━\u001b[0m\u001b[37m\u001b[0m \u001b[1m41s\u001b[0m 91ms/step - accuracy: 0.6362 - loss: 1.0127 - val_accuracy: 0.5094 - val_loss: 1.5125\n",
      "Epoch 24/30\n",
      "\u001b[1m313/313\u001b[0m \u001b[32m━━━━━━━━━━━━━━━━━━━━\u001b[0m\u001b[37m\u001b[0m \u001b[1m29s\u001b[0m 92ms/step - accuracy: 0.6392 - loss: 0.9960 - val_accuracy: 0.5151 - val_loss: 1.5297\n",
      "Epoch 25/30\n",
      "\u001b[1m313/313\u001b[0m \u001b[32m━━━━━━━━━━━━━━━━━━━━\u001b[0m\u001b[37m\u001b[0m \u001b[1m27s\u001b[0m 87ms/step - accuracy: 0.6598 - loss: 0.9516 - val_accuracy: 0.4999 - val_loss: 1.5843\n",
      "Epoch 26/30\n",
      "\u001b[1m313/313\u001b[0m \u001b[32m━━━━━━━━━━━━━━━━━━━━\u001b[0m\u001b[37m\u001b[0m \u001b[1m41s\u001b[0m 86ms/step - accuracy: 0.6638 - loss: 0.9325 - val_accuracy: 0.5094 - val_loss: 1.5832\n",
      "Epoch 27/30\n",
      "\u001b[1m313/313\u001b[0m \u001b[32m━━━━━━━━━━━━━━━━━━━━\u001b[0m\u001b[37m\u001b[0m \u001b[1m31s\u001b[0m 100ms/step - accuracy: 0.6726 - loss: 0.9039 - val_accuracy: 0.4994 - val_loss: 1.6423\n",
      "Epoch 28/30\n",
      "\u001b[1m313/313\u001b[0m \u001b[32m━━━━━━━━━━━━━━━━━━━━\u001b[0m\u001b[37m\u001b[0m \u001b[1m28s\u001b[0m 89ms/step - accuracy: 0.6786 - loss: 0.8837 - val_accuracy: 0.5003 - val_loss: 1.6359\n",
      "Epoch 29/30\n",
      "\u001b[1m313/313\u001b[0m \u001b[32m━━━━━━━━━━━━━━━━━━━━\u001b[0m\u001b[37m\u001b[0m \u001b[1m27s\u001b[0m 87ms/step - accuracy: 0.6939 - loss: 0.8511 - val_accuracy: 0.5029 - val_loss: 1.6953\n",
      "Epoch 30/30\n",
      "\u001b[1m313/313\u001b[0m \u001b[32m━━━━━━━━━━━━━━━━━━━━\u001b[0m\u001b[37m\u001b[0m \u001b[1m28s\u001b[0m 88ms/step - accuracy: 0.7008 - loss: 0.8245 - val_accuracy: 0.5029 - val_loss: 1.7320\n"
     ]
    }
   ],
   "source": [
    "#train\n",
    "m1=model_base.fit(x_train,y_train,epochs=30,batch_size=128,validation_split=0.2)"
   ]
  },
  {
   "cell_type": "code",
   "execution_count": 8,
   "id": "194b7823",
   "metadata": {
    "colab": {
     "base_uri": "https://localhost:8080/"
    },
    "executionInfo": {
     "elapsed": 1721,
     "status": "ok",
     "timestamp": 1761715928171,
     "user": {
      "displayName": "Lohith Bandla",
      "userId": "16055164822052850482"
     },
     "user_tz": -330
    },
    "id": "194b7823",
    "outputId": "10118744-f44e-469f-9d35-64dc779c044d"
   },
   "outputs": [
    {
     "name": "stdout",
     "output_type": "stream",
     "text": [
      "\u001b[1m313/313\u001b[0m \u001b[32m━━━━━━━━━━━━━━━━━━━━\u001b[0m\u001b[37m\u001b[0m \u001b[1m2s\u001b[0m 8ms/step - accuracy: 0.4997 - loss: 1.7055\n"
     ]
    }
   ],
   "source": [
    "#evaluate\n",
    "loss,test_accuracy=model_base.evaluate(x_test,y_test)"
   ]
  },
  {
   "cell_type": "code",
   "execution_count": 9,
   "id": "4603103a",
   "metadata": {
    "executionInfo": {
     "elapsed": 35,
     "status": "ok",
     "timestamp": 1761715928209,
     "user": {
      "displayName": "Lohith Bandla",
      "userId": "16055164822052850482"
     },
     "user_tz": -330
    },
    "id": "4603103a"
   },
   "outputs": [],
   "source": [
    "#MODEL with 12 regulizer(le-4) and dropout\n",
    "#architecture\n",
    "model_le4=Sequential()\n",
    "model_le4.add(Flatten(input_shape=(32,32,3))) #first layer\n",
    "model_le4.add(Dense(1024,activation='relu',kernel_regularizer=regularizers.l2(1e-4)))#hidden layer\n",
    "model_le4.add(Dense(512,activation='relu',kernel_regularizer=regularizers.l2(1e-4)))\n",
    "model_le4.add(Dense(256,activation='relu',kernel_regularizer=regularizers.l2(1e-4)))\n",
    "model_le4.add(Dense(128,activation='relu',kernel_regularizer=regularizers.l2(1e-4)))\n",
    "model_le4.add(Dense(64,activation='relu',kernel_regularizer=regularizers.l2(1e-4)))\n",
    "model_le4.add(Dense(10,activation='softmax')) #outout layer"
   ]
  },
  {
   "cell_type": "code",
   "execution_count": 10,
   "id": "020f688b",
   "metadata": {
    "executionInfo": {
     "elapsed": 2,
     "status": "ok",
     "timestamp": 1761715928217,
     "user": {
      "displayName": "Lohith Bandla",
      "userId": "16055164822052850482"
     },
     "user_tz": -330
    },
    "id": "020f688b"
   },
   "outputs": [],
   "source": [
    "#compile\n",
    "model_le4.compile(optimizer=Adam(learning_rate=0.001),\n",
    "                   loss='categorical_crossentropy',\n",
    "                   metrics=['accuracy'])"
   ]
  },
  {
   "cell_type": "code",
   "execution_count": 11,
   "id": "5bcd0446",
   "metadata": {
    "colab": {
     "base_uri": "https://localhost:8080/"
    },
    "executionInfo": {
     "elapsed": 62318,
     "status": "ok",
     "timestamp": 1761715990538,
     "user": {
      "displayName": "Lohith Bandla",
      "userId": "16055164822052850482"
     },
     "user_tz": -330
    },
    "id": "5bcd0446",
    "outputId": "080773dd-8632-4e13-c549-07785785dd39"
   },
   "outputs": [
    {
     "name": "stdout",
     "output_type": "stream",
     "text": [
      "Epoch 1/30\n",
      "\u001b[1m313/313\u001b[0m \u001b[32m━━━━━━━━━━━━━━━━━━━━\u001b[0m\u001b[37m\u001b[0m \u001b[1m42s\u001b[0m 112ms/step - accuracy: 0.2735 - loss: 2.1401 - val_accuracy: 0.3168 - val_loss: 2.0118\n",
      "Epoch 2/30\n",
      "\u001b[1m313/313\u001b[0m \u001b[32m━━━━━━━━━━━━━━━━━━━━\u001b[0m\u001b[37m\u001b[0m \u001b[1m37s\u001b[0m 117ms/step - accuracy: 0.3631 - loss: 1.8610 - val_accuracy: 0.3855 - val_loss: 1.8197\n",
      "Epoch 3/30\n",
      "\u001b[1m313/313\u001b[0m \u001b[32m━━━━━━━━━━━━━━━━━━━━\u001b[0m\u001b[37m\u001b[0m \u001b[1m37s\u001b[0m 117ms/step - accuracy: 0.3965 - loss: 1.7559 - val_accuracy: 0.3764 - val_loss: 1.8001\n",
      "Epoch 4/30\n",
      "\u001b[1m313/313\u001b[0m \u001b[32m━━━━━━━━━━━━━━━━━━━━\u001b[0m\u001b[37m\u001b[0m \u001b[1m40s\u001b[0m 112ms/step - accuracy: 0.4213 - loss: 1.6797 - val_accuracy: 0.4152 - val_loss: 1.6874\n",
      "Epoch 5/30\n",
      "\u001b[1m313/313\u001b[0m \u001b[32m━━━━━━━━━━━━━━━━━━━━\u001b[0m\u001b[37m\u001b[0m \u001b[1m34s\u001b[0m 109ms/step - accuracy: 0.4369 - loss: 1.6332 - val_accuracy: 0.4357 - val_loss: 1.6695\n",
      "Epoch 6/30\n",
      "\u001b[1m313/313\u001b[0m \u001b[32m━━━━━━━━━━━━━━━━━━━━\u001b[0m\u001b[37m\u001b[0m \u001b[1m31s\u001b[0m 100ms/step - accuracy: 0.4536 - loss: 1.5888 - val_accuracy: 0.4385 - val_loss: 1.6632\n",
      "Epoch 7/30\n",
      "\u001b[1m313/313\u001b[0m \u001b[32m━━━━━━━━━━━━━━━━━━━━\u001b[0m\u001b[37m\u001b[0m \u001b[1m35s\u001b[0m 113ms/step - accuracy: 0.4629 - loss: 1.5617 - val_accuracy: 0.4616 - val_loss: 1.5826\n",
      "Epoch 8/30\n",
      "\u001b[1m313/313\u001b[0m \u001b[32m━━━━━━━━━━━━━━━━━━━━\u001b[0m\u001b[37m\u001b[0m \u001b[1m36s\u001b[0m 113ms/step - accuracy: 0.4758 - loss: 1.5254 - val_accuracy: 0.4551 - val_loss: 1.5907\n",
      "Epoch 9/30\n",
      "\u001b[1m313/313\u001b[0m \u001b[32m━━━━━━━━━━━━━━━━━━━━\u001b[0m\u001b[37m\u001b[0m \u001b[1m34s\u001b[0m 109ms/step - accuracy: 0.4853 - loss: 1.5014 - val_accuracy: 0.4622 - val_loss: 1.5844\n",
      "Epoch 10/30\n",
      "\u001b[1m313/313\u001b[0m \u001b[32m━━━━━━━━━━━━━━━━━━━━\u001b[0m\u001b[37m\u001b[0m \u001b[1m43s\u001b[0m 135ms/step - accuracy: 0.4903 - loss: 1.4845 - val_accuracy: 0.4597 - val_loss: 1.5860\n",
      "Epoch 11/30\n",
      "\u001b[1m313/313\u001b[0m \u001b[32m━━━━━━━━━━━━━━━━━━━━\u001b[0m\u001b[37m\u001b[0m \u001b[1m80s\u001b[0m 130ms/step - accuracy: 0.5020 - loss: 1.4587 - val_accuracy: 0.4653 - val_loss: 1.5719\n",
      "Epoch 12/30\n",
      "\u001b[1m313/313\u001b[0m \u001b[32m━━━━━━━━━━━━━━━━━━━━\u001b[0m\u001b[37m\u001b[0m \u001b[1m41s\u001b[0m 130ms/step - accuracy: 0.5125 - loss: 1.4291 - val_accuracy: 0.4763 - val_loss: 1.5566\n",
      "Epoch 13/30\n",
      "\u001b[1m313/313\u001b[0m \u001b[32m━━━━━━━━━━━━━━━━━━━━\u001b[0m\u001b[37m\u001b[0m \u001b[1m34s\u001b[0m 108ms/step - accuracy: 0.5196 - loss: 1.4175 - val_accuracy: 0.4753 - val_loss: 1.5559\n",
      "Epoch 14/30\n",
      "\u001b[1m313/313\u001b[0m \u001b[32m━━━━━━━━━━━━━━━━━━━━\u001b[0m\u001b[37m\u001b[0m \u001b[1m33s\u001b[0m 105ms/step - accuracy: 0.5229 - loss: 1.4057 - val_accuracy: 0.4668 - val_loss: 1.6158\n",
      "Epoch 15/30\n",
      "\u001b[1m313/313\u001b[0m \u001b[32m━━━━━━━━━━━━━━━━━━━━\u001b[0m\u001b[37m\u001b[0m \u001b[1m34s\u001b[0m 109ms/step - accuracy: 0.5256 - loss: 1.3953 - val_accuracy: 0.4797 - val_loss: 1.5535\n",
      "Epoch 16/30\n",
      "\u001b[1m313/313\u001b[0m \u001b[32m━━━━━━━━━━━━━━━━━━━━\u001b[0m\u001b[37m\u001b[0m \u001b[1m45s\u001b[0m 123ms/step - accuracy: 0.5389 - loss: 1.3602 - val_accuracy: 0.5110 - val_loss: 1.4822\n",
      "Epoch 17/30\n",
      "\u001b[1m313/313\u001b[0m \u001b[32m━━━━━━━━━━━━━━━━━━━━\u001b[0m\u001b[37m\u001b[0m \u001b[1m39s\u001b[0m 123ms/step - accuracy: 0.5413 - loss: 1.3568 - val_accuracy: 0.4874 - val_loss: 1.5322\n",
      "Epoch 18/30\n",
      "\u001b[1m313/313\u001b[0m \u001b[32m━━━━━━━━━━━━━━━━━━━━\u001b[0m\u001b[37m\u001b[0m \u001b[1m41s\u001b[0m 130ms/step - accuracy: 0.5508 - loss: 1.3391 - val_accuracy: 0.5094 - val_loss: 1.5015\n",
      "Epoch 19/30\n",
      "\u001b[1m313/313\u001b[0m \u001b[32m━━━━━━━━━━━━━━━━━━━━\u001b[0m\u001b[37m\u001b[0m \u001b[1m39s\u001b[0m 123ms/step - accuracy: 0.5545 - loss: 1.3223 - val_accuracy: 0.4890 - val_loss: 1.5311\n",
      "Epoch 20/30\n",
      "\u001b[1m313/313\u001b[0m \u001b[32m━━━━━━━━━━━━━━━━━━━━\u001b[0m\u001b[37m\u001b[0m \u001b[1m38s\u001b[0m 120ms/step - accuracy: 0.5670 - loss: 1.2988 - val_accuracy: 0.5064 - val_loss: 1.4983\n",
      "Epoch 21/30\n",
      "\u001b[1m313/313\u001b[0m \u001b[32m━━━━━━━━━━━━━━━━━━━━\u001b[0m\u001b[37m\u001b[0m \u001b[1m40s\u001b[0m 116ms/step - accuracy: 0.5705 - loss: 1.2853 - val_accuracy: 0.5033 - val_loss: 1.5288\n",
      "Epoch 22/30\n",
      "\u001b[1m313/313\u001b[0m \u001b[32m━━━━━━━━━━━━━━━━━━━━\u001b[0m\u001b[37m\u001b[0m \u001b[1m34s\u001b[0m 108ms/step - accuracy: 0.5739 - loss: 1.2780 - val_accuracy: 0.4931 - val_loss: 1.5413\n",
      "Epoch 23/30\n",
      "\u001b[1m313/313\u001b[0m \u001b[32m━━━━━━━━━━━━━━━━━━━━\u001b[0m\u001b[37m\u001b[0m \u001b[1m35s\u001b[0m 88ms/step - accuracy: 0.5816 - loss: 1.2628 - val_accuracy: 0.4955 - val_loss: 1.5385\n",
      "Epoch 24/30\n",
      "\u001b[1m313/313\u001b[0m \u001b[32m━━━━━━━━━━━━━━━━━━━━\u001b[0m\u001b[37m\u001b[0m \u001b[1m41s\u001b[0m 131ms/step - accuracy: 0.5846 - loss: 1.2520 - val_accuracy: 0.5048 - val_loss: 1.5288\n",
      "Epoch 25/30\n",
      "\u001b[1m313/313\u001b[0m \u001b[32m━━━━━━━━━━━━━━━━━━━━\u001b[0m\u001b[37m\u001b[0m \u001b[1m38s\u001b[0m 120ms/step - accuracy: 0.5918 - loss: 1.2387 - val_accuracy: 0.4998 - val_loss: 1.5584\n",
      "Epoch 26/30\n",
      "\u001b[1m313/313\u001b[0m \u001b[32m━━━━━━━━━━━━━━━━━━━━\u001b[0m\u001b[37m\u001b[0m \u001b[1m34s\u001b[0m 108ms/step - accuracy: 0.5969 - loss: 1.2239 - val_accuracy: 0.5087 - val_loss: 1.5272\n",
      "Epoch 27/30\n",
      "\u001b[1m313/313\u001b[0m \u001b[32m━━━━━━━━━━━━━━━━━━━━\u001b[0m\u001b[37m\u001b[0m \u001b[1m31s\u001b[0m 100ms/step - accuracy: 0.6045 - loss: 1.2119 - val_accuracy: 0.5177 - val_loss: 1.5238\n",
      "Epoch 28/30\n",
      "\u001b[1m313/313\u001b[0m \u001b[32m━━━━━━━━━━━━━━━━━━━━\u001b[0m\u001b[37m\u001b[0m \u001b[1m30s\u001b[0m 96ms/step - accuracy: 0.6086 - loss: 1.1987 - val_accuracy: 0.5237 - val_loss: 1.5049\n",
      "Epoch 29/30\n",
      "\u001b[1m313/313\u001b[0m \u001b[32m━━━━━━━━━━━━━━━━━━━━\u001b[0m\u001b[37m\u001b[0m \u001b[1m43s\u001b[0m 101ms/step - accuracy: 0.6136 - loss: 1.1811 - val_accuracy: 0.4995 - val_loss: 1.5995\n",
      "Epoch 30/30\n",
      "\u001b[1m313/313\u001b[0m \u001b[32m━━━━━━━━━━━━━━━━━━━━\u001b[0m\u001b[37m\u001b[0m \u001b[1m32s\u001b[0m 102ms/step - accuracy: 0.6158 - loss: 1.1800 - val_accuracy: 0.5173 - val_loss: 1.5461\n"
     ]
    }
   ],
   "source": [
    "#train\n",
    "m2=model_le4.fit(x_train,y_train,epochs=30,batch_size=128,validation_split=0.2)"
   ]
  },
  {
   "cell_type": "code",
   "execution_count": 12,
   "id": "67a23e38",
   "metadata": {
    "colab": {
     "base_uri": "https://localhost:8080/"
    },
    "executionInfo": {
     "elapsed": 1115,
     "status": "ok",
     "timestamp": 1761715991659,
     "user": {
      "displayName": "Lohith Bandla",
      "userId": "16055164822052850482"
     },
     "user_tz": -330
    },
    "id": "67a23e38",
    "outputId": "f57019b4-d17c-40f9-cc3c-81dd534e5926"
   },
   "outputs": [
    {
     "name": "stdout",
     "output_type": "stream",
     "text": [
      "\u001b[1m313/313\u001b[0m \u001b[32m━━━━━━━━━━━━━━━━━━━━\u001b[0m\u001b[37m\u001b[0m \u001b[1m4s\u001b[0m 12ms/step - accuracy: 0.4997 - loss: 1.7055\n"
     ]
    }
   ],
   "source": [
    "#evaluate\n",
    "loss,test_accuracy=model_base.evaluate(x_test,y_test)"
   ]
  },
  {
   "cell_type": "code",
   "execution_count": 13,
   "id": "e6f73023",
   "metadata": {
    "executionInfo": {
     "elapsed": 32,
     "status": "ok",
     "timestamp": 1761715991694,
     "user": {
      "displayName": "Lohith Bandla",
      "userId": "16055164822052850482"
     },
     "user_tz": -330
    },
    "id": "e6f73023"
   },
   "outputs": [],
   "source": [
    "#MODEL 3\n",
    "#MODEL with 12 regulizer(le-2) and dropout\n",
    "#architecture\n",
    "model_le2=Sequential()\n",
    "model_le2.add(Flatten(input_shape=(32,32,3))) #first layer\n",
    "model_le2.add(Dense(1024,activation='relu',kernel_regularizer=regularizers.l2(1e-2)))#hidden layer\n",
    "model_le2.add(Dense(512,activation='relu',kernel_regularizer=regularizers.l2(1e-2)))\n",
    "model_le2.add(Dense(256,activation='relu',kernel_regularizer=regularizers.l2(1e-2)))\n",
    "model_le2.add(Dense(128,activation='relu',kernel_regularizer=regularizers.l2(1e-2)))\n",
    "model_le2.add(Dense(64,activation='relu',kernel_regularizer=regularizers.l2(1e-2)))\n",
    "model_le2.add(Dense(10,activation='softmax')) #outout layer"
   ]
  },
  {
   "cell_type": "code",
   "execution_count": 14,
   "id": "0ffc3838",
   "metadata": {
    "executionInfo": {
     "elapsed": 21,
     "status": "ok",
     "timestamp": 1761715991718,
     "user": {
      "displayName": "Lohith Bandla",
      "userId": "16055164822052850482"
     },
     "user_tz": -330
    },
    "id": "0ffc3838"
   },
   "outputs": [],
   "source": [
    "#compile\n",
    "model_le2.compile(optimizer=Adam(learning_rate=0.001),\n",
    "                   loss='categorical_crossentropy',\n",
    "                   metrics=['accuracy'])"
   ]
  },
  {
   "cell_type": "code",
   "execution_count": 15,
   "id": "10615eb3",
   "metadata": {
    "colab": {
     "base_uri": "https://localhost:8080/"
    },
    "executionInfo": {
     "elapsed": 61935,
     "status": "ok",
     "timestamp": 1761716053656,
     "user": {
      "displayName": "Lohith Bandla",
      "userId": "16055164822052850482"
     },
     "user_tz": -330
    },
    "id": "10615eb3",
    "outputId": "94a501ee-e98b-4a2a-b77f-5942ad3d9e1f"
   },
   "outputs": [
    {
     "name": "stdout",
     "output_type": "stream",
     "text": [
      "Epoch 1/30\n",
      "\u001b[1m313/313\u001b[0m \u001b[32m━━━━━━━━━━━━━━━━━━━━\u001b[0m\u001b[37m\u001b[0m \u001b[1m42s\u001b[0m 122ms/step - accuracy: 0.2111 - loss: 4.4655 - val_accuracy: 0.2438 - val_loss: 2.3495\n",
      "Epoch 2/30\n",
      "\u001b[1m313/313\u001b[0m \u001b[32m━━━━━━━━━━━━━━━━━━━━\u001b[0m\u001b[37m\u001b[0m \u001b[1m35s\u001b[0m 113ms/step - accuracy: 0.2464 - loss: 2.2195 - val_accuracy: 0.2610 - val_loss: 2.1606\n",
      "Epoch 3/30\n",
      "\u001b[1m313/313\u001b[0m \u001b[32m━━━━━━━━━━━━━━━━━━━━\u001b[0m\u001b[37m\u001b[0m \u001b[1m36s\u001b[0m 113ms/step - accuracy: 0.2567 - loss: 2.1147 - val_accuracy: 0.2486 - val_loss: 2.1282\n",
      "Epoch 4/30\n",
      "\u001b[1m313/313\u001b[0m \u001b[32m━━━━━━━━━━━━━━━━━━━━\u001b[0m\u001b[37m\u001b[0m \u001b[1m35s\u001b[0m 110ms/step - accuracy: 0.2625 - loss: 2.0826 - val_accuracy: 0.2576 - val_loss: 2.0590\n",
      "Epoch 5/30\n",
      "\u001b[1m313/313\u001b[0m \u001b[32m━━━━━━━━━━━━━━━━━━━━\u001b[0m\u001b[37m\u001b[0m \u001b[1m31s\u001b[0m 98ms/step - accuracy: 0.2647 - loss: 2.0616 - val_accuracy: 0.2643 - val_loss: 2.0936\n",
      "Epoch 6/30\n",
      "\u001b[1m313/313\u001b[0m \u001b[32m━━━━━━━━━━━━━━━━━━━━\u001b[0m\u001b[37m\u001b[0m \u001b[1m33s\u001b[0m 106ms/step - accuracy: 0.2695 - loss: 2.0489 - val_accuracy: 0.2469 - val_loss: 2.0956\n",
      "Epoch 7/30\n",
      "\u001b[1m313/313\u001b[0m \u001b[32m━━━━━━━━━━━━━━━━━━━━\u001b[0m\u001b[37m\u001b[0m \u001b[1m41s\u001b[0m 105ms/step - accuracy: 0.2693 - loss: 2.0380 - val_accuracy: 0.2585 - val_loss: 2.0900\n",
      "Epoch 8/30\n",
      "\u001b[1m313/313\u001b[0m \u001b[32m━━━━━━━━━━━━━━━━━━━━\u001b[0m\u001b[37m\u001b[0m \u001b[1m32s\u001b[0m 101ms/step - accuracy: 0.2708 - loss: 2.0325 - val_accuracy: 0.2305 - val_loss: 2.1623\n",
      "Epoch 9/30\n",
      "\u001b[1m313/313\u001b[0m \u001b[32m━━━━━━━━━━━━━━━━━━━━\u001b[0m\u001b[37m\u001b[0m \u001b[1m32s\u001b[0m 102ms/step - accuracy: 0.2803 - loss: 2.0156 - val_accuracy: 0.2810 - val_loss: 2.0157\n",
      "Epoch 10/30\n",
      "\u001b[1m313/313\u001b[0m \u001b[32m━━━━━━━━━━━━━━━━━━━━\u001b[0m\u001b[37m\u001b[0m \u001b[1m44s\u001b[0m 111ms/step - accuracy: 0.2855 - loss: 2.0019 - val_accuracy: 0.2893 - val_loss: 1.9970\n",
      "Epoch 11/30\n",
      "\u001b[1m313/313\u001b[0m \u001b[32m━━━━━━━━━━━━━━━━━━━━\u001b[0m\u001b[37m\u001b[0m \u001b[1m34s\u001b[0m 110ms/step - accuracy: 0.2833 - loss: 1.9977 - val_accuracy: 0.2722 - val_loss: 2.0030\n",
      "Epoch 12/30\n",
      "\u001b[1m313/313\u001b[0m \u001b[32m━━━━━━━━━━━━━━━━━━━━\u001b[0m\u001b[37m\u001b[0m \u001b[1m41s\u001b[0m 111ms/step - accuracy: 0.2833 - loss: 1.9963 - val_accuracy: 0.2881 - val_loss: 1.9948\n",
      "Epoch 13/30\n",
      "\u001b[1m313/313\u001b[0m \u001b[32m━━━━━━━━━━━━━━━━━━━━\u001b[0m\u001b[37m\u001b[0m \u001b[1m38s\u001b[0m 102ms/step - accuracy: 0.2898 - loss: 1.9846 - val_accuracy: 0.3018 - val_loss: 1.9675\n",
      "Epoch 14/30\n",
      "\u001b[1m313/313\u001b[0m \u001b[32m━━━━━━━━━━━━━━━━━━━━\u001b[0m\u001b[37m\u001b[0m \u001b[1m34s\u001b[0m 108ms/step - accuracy: 0.2906 - loss: 1.9763 - val_accuracy: 0.3013 - val_loss: 1.9692\n",
      "Epoch 15/30\n",
      "\u001b[1m313/313\u001b[0m \u001b[32m━━━━━━━━━━━━━━━━━━━━\u001b[0m\u001b[37m\u001b[0m \u001b[1m36s\u001b[0m 114ms/step - accuracy: 0.2919 - loss: 1.9744 - val_accuracy: 0.2943 - val_loss: 1.9590\n",
      "Epoch 16/30\n",
      "\u001b[1m313/313\u001b[0m \u001b[32m━━━━━━━━━━━━━━━━━━━━\u001b[0m\u001b[37m\u001b[0m \u001b[1m35s\u001b[0m 110ms/step - accuracy: 0.2948 - loss: 1.9690 - val_accuracy: 0.2923 - val_loss: 1.9681\n",
      "Epoch 17/30\n",
      "\u001b[1m313/313\u001b[0m \u001b[32m━━━━━━━━━━━━━━━━━━━━\u001b[0m\u001b[37m\u001b[0m \u001b[1m50s\u001b[0m 139ms/step - accuracy: 0.2926 - loss: 1.9699 - val_accuracy: 0.2786 - val_loss: 1.9891\n",
      "Epoch 18/30\n",
      "\u001b[1m313/313\u001b[0m \u001b[32m━━━━━━━━━━━━━━━━━━━━\u001b[0m\u001b[37m\u001b[0m \u001b[1m40s\u001b[0m 127ms/step - accuracy: 0.2919 - loss: 1.9652 - val_accuracy: 0.3096 - val_loss: 1.9596\n",
      "Epoch 19/30\n",
      "\u001b[1m313/313\u001b[0m \u001b[32m━━━━━━━━━━━━━━━━━━━━\u001b[0m\u001b[37m\u001b[0m \u001b[1m38s\u001b[0m 117ms/step - accuracy: 0.2977 - loss: 1.9602 - val_accuracy: 0.2983 - val_loss: 1.9555\n",
      "Epoch 20/30\n",
      "\u001b[1m313/313\u001b[0m \u001b[32m━━━━━━━━━━━━━━━━━━━━\u001b[0m\u001b[37m\u001b[0m \u001b[1m35s\u001b[0m 112ms/step - accuracy: 0.2992 - loss: 1.9588 - val_accuracy: 0.2981 - val_loss: 1.9564\n",
      "Epoch 21/30\n",
      "\u001b[1m313/313\u001b[0m \u001b[32m━━━━━━━━━━━━━━━━━━━━\u001b[0m\u001b[37m\u001b[0m \u001b[1m33s\u001b[0m 105ms/step - accuracy: 0.2951 - loss: 1.9651 - val_accuracy: 0.3000 - val_loss: 1.9785\n",
      "Epoch 22/30\n",
      "\u001b[1m313/313\u001b[0m \u001b[32m━━━━━━━━━━━━━━━━━━━━\u001b[0m\u001b[37m\u001b[0m \u001b[1m32s\u001b[0m 101ms/step - accuracy: 0.3007 - loss: 1.9581 - val_accuracy: 0.2897 - val_loss: 2.0096\n",
      "Epoch 23/30\n",
      "\u001b[1m313/313\u001b[0m \u001b[32m━━━━━━━━━━━━━━━━━━━━\u001b[0m\u001b[37m\u001b[0m \u001b[1m31s\u001b[0m 100ms/step - accuracy: 0.3016 - loss: 1.9591 - val_accuracy: 0.2671 - val_loss: 2.0052\n",
      "Epoch 24/30\n",
      "\u001b[1m313/313\u001b[0m \u001b[32m━━━━━━━━━━━━━━━━━━━━\u001b[0m\u001b[37m\u001b[0m \u001b[1m33s\u001b[0m 106ms/step - accuracy: 0.3017 - loss: 1.9568 - val_accuracy: 0.2994 - val_loss: 1.9689\n",
      "Epoch 25/30\n",
      "\u001b[1m313/313\u001b[0m \u001b[32m━━━━━━━━━━━━━━━━━━━━\u001b[0m\u001b[37m\u001b[0m \u001b[1m42s\u001b[0m 133ms/step - accuracy: 0.3028 - loss: 1.9506 - val_accuracy: 0.3067 - val_loss: 1.9548\n",
      "Epoch 26/30\n",
      "\u001b[1m313/313\u001b[0m \u001b[32m━━━━━━━━━━━━━━━━━━━━\u001b[0m\u001b[37m\u001b[0m \u001b[1m39s\u001b[0m 124ms/step - accuracy: 0.3031 - loss: 1.9578 - val_accuracy: 0.2965 - val_loss: 1.9797\n",
      "Epoch 27/30\n",
      "\u001b[1m313/313\u001b[0m \u001b[32m━━━━━━━━━━━━━━━━━━━━\u001b[0m\u001b[37m\u001b[0m \u001b[1m48s\u001b[0m 152ms/step - accuracy: 0.3077 - loss: 1.9472 - val_accuracy: 0.2948 - val_loss: 1.9607\n",
      "Epoch 28/30\n",
      "\u001b[1m313/313\u001b[0m \u001b[32m━━━━━━━━━━━━━━━━━━━━\u001b[0m\u001b[37m\u001b[0m \u001b[1m42s\u001b[0m 133ms/step - accuracy: 0.3059 - loss: 1.9486 - val_accuracy: 0.2842 - val_loss: 2.0067\n",
      "Epoch 29/30\n",
      "\u001b[1m313/313\u001b[0m \u001b[32m━━━━━━━━━━━━━━━━━━━━\u001b[0m\u001b[37m\u001b[0m \u001b[1m37s\u001b[0m 118ms/step - accuracy: 0.3058 - loss: 1.9482 - val_accuracy: 0.2778 - val_loss: 2.0741\n",
      "Epoch 30/30\n",
      "\u001b[1m313/313\u001b[0m \u001b[32m━━━━━━━━━━━━━━━━━━━━\u001b[0m\u001b[37m\u001b[0m \u001b[1m42s\u001b[0m 134ms/step - accuracy: 0.3061 - loss: 1.9485 - val_accuracy: 0.3097 - val_loss: 1.9471\n"
     ]
    }
   ],
   "source": [
    "#train\n",
    "m3=model_le2.fit(x_train,y_train,epochs=30,batch_size=128,validation_split=0.2)"
   ]
  },
  {
   "cell_type": "code",
   "execution_count": 16,
   "id": "667ad858",
   "metadata": {
    "colab": {
     "base_uri": "https://localhost:8080/"
    },
    "executionInfo": {
     "elapsed": 2228,
     "status": "ok",
     "timestamp": 1761716055891,
     "user": {
      "displayName": "Lohith Bandla",
      "userId": "16055164822052850482"
     },
     "user_tz": -330
    },
    "id": "667ad858",
    "outputId": "ff002603-ee45-4895-d9d7-dce27e9dca37"
   },
   "outputs": [
    {
     "name": "stdout",
     "output_type": "stream",
     "text": [
      "\u001b[1m313/313\u001b[0m \u001b[32m━━━━━━━━━━━━━━━━━━━━\u001b[0m\u001b[37m\u001b[0m \u001b[1m5s\u001b[0m 14ms/step - accuracy: 0.3036 - loss: 1.9277\n"
     ]
    }
   ],
   "source": [
    "#evaluate\n",
    "loss,test_accuracy=model_le2.evaluate(x_test,y_test)"
   ]
  },
  {
   "cell_type": "code",
   "execution_count": 17,
   "id": "20413bb3",
   "metadata": {
    "colab": {
     "base_uri": "https://localhost:8080/",
     "height": 430
    },
    "executionInfo": {
     "elapsed": 403,
     "status": "ok",
     "timestamp": 1761716056307,
     "user": {
      "displayName": "Lohith Bandla",
      "userId": "16055164822052850482"
     },
     "user_tz": -330
    },
    "id": "20413bb3",
    "outputId": "f9443899-eb97-49ec-d7d8-864bd4a4b068"
   },
   "outputs": [
    {
     "data": {
      "image/png": "[encoded data removed]",
      "text/plain": [
       "<Figure size 640x480 with 1 Axes>"
      ]
     },
     "metadata": {},
     "output_type": "display_data"
    }
   ],
   "source": [
    "#visualisation\n",
    "plt.plot(m1.history['val_accuracy'],label='without reguliser',color='red')\n",
    "plt.plot(m2.history['val_accuracy'],label='le4',color='blue')\n",
    "plt.plot(m3.history['val_accuracy'],label='le2',color='green')\n",
    "plt.title='validation accuracy'\n",
    "plt.xlabel='epochs'\n",
    "plt.ylable='accuracy'\n",
    "plt.legend()\n",
    "plt.show()"
   ]
  },
  {
   "cell_type": "code",
   "execution_count": null,
   "id": "30f47d4d",
   "metadata": {
    "executionInfo": {
     "elapsed": 3,
     "status": "ok",
     "timestamp": 1761716056312,
     "user": {
      "displayName": "Lohith Bandla",
      "userId": "16055164822052850482"
     },
     "user_tz": -330
    },
    "id": "30f47d4d"
   },
   "outputs": [],
   "source": []
  }
 ],
 "metadata": {
  "accelerator": "GPU",
  "colab": {
   "gpuType": "T4",
   "provenance": []
  },
  "kernelspec": {
   "display_name": "Python 3",
   "name": "python3"
  },
  "language_info": {
   "codemirror_mode": {
    "name": "ipython",
    "version": 3
   },
   "file_extension": ".py",
   "mimetype": "text/x-python",
   "name": "python",
   "nbconvert_exporter": "python",
   "pygments_lexer": "ipython3",
   "version": "3.10.11"
  }
 },
 "nbformat": 4,
 "nbformat_minor": 5
}
